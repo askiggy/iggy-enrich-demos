{
 "cells": [
  {
   "cell_type": "markdown",
   "id": "67acddf1-6d9b-4f21-8c51-a995e5c5291d",
   "metadata": {
    "tags": []
   },
   "source": [
    "# Iggy Enrich Demo\n",
    "\n",
    "In this demo we will show some of the capabilities of Iggy Place Data and show an example workflow for two example use cases:\n",
    "- vacation rental recommendation\n",
    "- vacation rental ratings prediction"
   ]
  },
  {
   "cell_type": "markdown",
   "id": "cb8953e1-e95a-411f-944d-f7f3d165f007",
   "metadata": {},
   "source": [
    "## Install and Import libraries, Download data"
   ]
  },
  {
   "cell_type": "code",
   "execution_count": null,
   "id": "db6606a9-5e10-4f12-a32e-30468a10a489",
   "metadata": {},
   "outputs": [],
   "source": [
    "import pandas as pd\n",
    "import geopandas as gpd\n",
    "import numpy as np\n",
    "from shapely import wkt\n",
    "from keplergl import KeplerGl\n",
    "from google.cloud import storage\n",
    "from iggyenrich.iggy_enrich import IggyEnrich\n",
    "from iggyenrich.iggy_data_package import LocalIggyDataPackage\n",
    "import sklearn.preprocessing as preprocessing\n",
    "from sklearn.model_selection import train_test_split\n",
    "from sklearn.metrics import pairwise, mean_squared_error\n",
    "from sklearn import linear_model\n",
    "import matplotlib.pyplot as plt"
   ]
  },
  {
   "cell_type": "code",
   "execution_count": null,
   "id": "1dee51ef",
   "metadata": {},
   "outputs": [],
   "source": [
    "from google.cloud import storage\n",
    "\n",
    "def download_public_file(bucket_name, prefix, desired_blobs):\n",
    "    \n",
    "    storage_client = storage.Client.create_anonymous_client()\n",
    "    bucket = storage_client.bucket(bucket_name)\n",
    "\n",
    "    blobs = bucket.list_blobs(prefix=prefix)\n",
    "    for blob in blobs:\n",
    "        if blob.name in desired_blobs:\n",
    "            blob.download_to_filename(blob.name)"
   ]
  },
  {
   "cell_type": "code",
   "execution_count": null,
   "id": "40488203-fb27-475e-b9b4-cf98cc05ad1b",
   "metadata": {
    "tags": []
   },
   "outputs": [],
   "source": [
    "!mkdir austin-datasets\n",
    "download_public_file('iggy-web-demo', 'austin-datasets', ['austin-datasets/samples_iggy-package-wkt-20211209155137_tx_austin_quadkeys.tar.gz', 'austin-datasets/vacation_rentals.tar.gz'])"
   ]
  },
  {
   "cell_type": "code",
   "execution_count": null,
   "id": "ba2e8e76",
   "metadata": {},
   "outputs": [],
   "source": [
    "!tar xzvf austin-datasets/samples_iggy-package-wkt-20211209155137_tx_austin_quadkeys.tar.gz -C austin-datasets/\n",
    "!tar xzvf austin-datasets/vacation_rentals.tar.gz -C austin-datasets/"
   ]
  },
  {
   "cell_type": "markdown",
   "id": "32971e28-12aa-43a0-a3b3-e3deacff267a",
   "metadata": {
    "tags": []
   },
   "source": [
    "## Load 3rd Party Data and Enrich with Iggy Data\n",
    "Now we will load some third party data - information on vacation rentals in Austin, TX and enrich this data with Iggy data. We will use a selected subset of features spanning the zipcode, census block group (CBG) and Isochrone 10 minute walk boundaries. For more information on our data and the boundaries please read our [Data Readme](https://docs.askiggy.com/reference/place-data).\n",
    "\n",
    "We will enrich the vacation listings data using the [IggyEnrich](https://pypi.org/project/iggyenrich/0.0.2/) Python package.\n",
    "This package makes it very easy to enrich your own data using selected features and to selected boundaries."
   ]
  },
  {
   "cell_type": "code",
   "execution_count": null,
   "id": "a3a9266b-b4f7-433f-813f-28a35c35a4aa",
   "metadata": {},
   "outputs": [],
   "source": [
    "vacation_rental_data = pd.read_csv('austin-datasets/vacation_rental_austin.csv')\n",
    "rental_data_clean = vacation_rental_data.copy()\n",
    "rental_data_clean.drop(['name'], axis=1, inplace=True)"
   ]
  },
  {
   "cell_type": "code",
   "execution_count": null,
   "id": "524dded6-6cc1-4bd5-bfef-e96488bbf86a",
   "metadata": {},
   "outputs": [],
   "source": [
    "vacation_rental_columns = list(rental_data_clean.columns)"
   ]
  },
  {
   "cell_type": "markdown",
   "id": "c8d7248b",
   "metadata": {},
   "source": [
    "Next we will select particular Iggy features to enrich our dataset with."
   ]
  },
  {
   "cell_type": "code",
   "execution_count": null,
   "id": "c96d084e-2c27-4a6a-94e5-c47f54e8af0e",
   "metadata": {},
   "outputs": [],
   "source": [
    "features = [\n",
    " 'acs_housing_units_built_2000_to_2009_cbg',\n",
    " 'acs_housing_units_built_2010_to_2013_cbg',\n",
    " 'acs_housing_units_built_2014_or_later_cbg',\n",
    " 'acs_median_age_cbg',\n",
    " 'acs_pct_households_cohabiting_couple_with_children_cbg',\n",
    " 'acs_pct_households_female_head_with_children_cbg',\n",
    " 'acs_pct_households_male_head_with_children_cbg',\n",
    " 'acs_pct_households_married_couple_with_children_cbg',\n",
    " 'acs_pct_housing_units_built_1939_or_earlier_cbg',\n",
    " 'acs_pct_housing_units_built_1940_to_1949_cbg',\n",
    " 'acs_pct_housing_units_built_1950_to_1959_cbg',\n",
    " 'acs_pct_pop_commutes_by_public_transport_any_cbg',\n",
    " 'park_pct_area_intersecting_boundary_qk_isochrone_walk_10m',\n",
    " 'poi_count_cbg',\n",
    " 'poi_count_qk_isochrone_walk_10m',\n",
    " 'poi_count_zipcode',\n",
    " 'poi_is_bar_count_per_sqkm_qk_isochrone_walk_10m',\n",
    " 'poi_is_brand_crossfit_count_qk_isochrone_walk_10m',\n",
    " 'poi_is_brand_trader_joes_count_qk_isochrone_walk_10m',\n",
    " 'poi_is_convenience_store_or_pharmacy_count_per_sqkm_qk_isochrone_walk_10m',\n",
    " 'poi_is_cultural_count_qk_isochrone_walk_10m',\n",
    " 'poi_is_games_and_amusement_recreation_count_qk_isochrone_walk_10m',\n",
    " 'poi_is_grocery_store_count_qk_isochrone_walk_10m',\n",
    " 'poi_is_historical_site_count_per_sqkm_qk_isochrone_walk_10m',\n",
    " 'poi_is_museum_count_qk_isochrone_walk_10m',\n",
    " 'poi_is_nature_recreation_count_per_sqkm_qk_isochrone_walk_10m',\n",
    " 'poi_is_parking_count_per_capita_qk_isochrone_walk_10m',\n",
    " 'poi_is_performance_venue_count_qk_isochrone_walk_10m',\n",
    " 'poi_is_restaurant_count_per_sqkm_qk_isochrone_walk_10m',\n",
    " 'water_intersects_zipcode',\n",
    "]"
   ]
  },
  {
   "cell_type": "code",
   "execution_count": null,
   "id": "d847211b-bfed-4bf4-8a7e-9b31adb745e1",
   "metadata": {},
   "outputs": [],
   "source": [
    "pkg_spec = {\n",
    "    \"iggy_version_id\": \"20211209155137\",\n",
    "    \"crosswalk_prefix\": \"tx_austin_quadkeys\",\n",
    "    \"base_loc\": \"austin-datasets/\",\n",
    "    \"iggy_prefix\": \"tx_austin_quadkeys\"\n",
    "}\n",
    "pkg = LocalIggyDataPackage(**pkg_spec)\n",
    "iggy = IggyEnrich(iggy_package=pkg)\n",
    "\n",
    "iggy.load(features=features)\n",
    "rentals_enriched_df = iggy.enrich_df(rental_data_clean, latitude_col=\"latitude\", longitude_col=\"longitude\")"
   ]
  },
  {
   "cell_type": "markdown",
   "id": "59a1d7d7-7bd1-4cdb-b292-85d2af9b7511",
   "metadata": {},
   "source": [
    "Now we have enriched the data, we will plot maps at the different boundary levels from coarse-grained (zip code) to fine-grained (quadkey zoom 19)."
   ]
  },
  {
   "cell_type": "code",
   "execution_count": null,
   "id": "a5b86b5c-8a34-499e-9f91-3054579152c8",
   "metadata": {},
   "outputs": [],
   "source": [
    "rentals_enriched_df['geometry'] = gpd.points_from_xy(rentals_enriched_df['longitude'], rentals_enriched_df['latitude'])\n",
    "rentals_enriched_df_g = gpd.GeoDataFrame(rentals_enriched_df, geometry='geometry', crs=\"WGS84\")\n"
   ]
  },
  {
   "cell_type": "code",
   "execution_count": null,
   "id": "a81bd89b-3042-4e4f-a348-98c89c34cdca",
   "metadata": {},
   "outputs": [],
   "source": [
    "%run map_configs/zipcode_poi_count_austin.py\n",
    "zipcode_poi_count_austin = KeplerGl(height=600, width=400, config=config)\n",
    "zipcode_poi_count_austin.add_data(rentals_enriched_df_g[[\"latitude\", \"longitude\", \"poi_count_zipcode\", \"zip_geometry\"]], \"poi_count_zipcode\")\n",
    "zipcode_poi_count_austin"
   ]
  },
  {
   "cell_type": "markdown",
   "id": "301af941-891d-4b25-bab5-cdde48d5b938",
   "metadata": {},
   "source": [
    "<center>Figure 1: Poi Count for each rental when enriching at a zipcode boundary<center>"
   ]
  },
  {
   "cell_type": "code",
   "execution_count": null,
   "id": "e582da3d-feba-40d1-90c1-3fb4c00e3537",
   "metadata": {
    "scrolled": true
   },
   "outputs": [],
   "source": [
    "%run map_configs/cbg_poi_count_austin.py\n",
    "cbg_poi_count_austin = KeplerGl(height=600, width=400, config=config)\n",
    "cbg_poi_count_austin.add_data(rentals_enriched_df_g[[\"latitude\", \"longitude\", \"poi_count_cbg\", \"cbg_geometry\"]], \"poi_count_cbg\")\n",
    "cbg_poi_count_austin"
   ]
  },
  {
   "cell_type": "markdown",
   "id": "dc57cb93-25aa-4612-807c-609010bbf073",
   "metadata": {},
   "source": [
    "<center>Figure 2: Poi Count for each rental when enriching at a CBG boundary<center>"
   ]
  },
  {
   "cell_type": "code",
   "execution_count": null,
   "id": "36919815-d707-4f86-8c05-17a7b9426df1",
   "metadata": {},
   "outputs": [],
   "source": [
    "%run map_configs/isochrone_poi_count_austin.py\n",
    "isochrone_poi_count_austin = KeplerGl(height=600, width=400, config=config)\n",
    "isochrone_poi_count_austin.add_data(rentals_enriched_df_g[[\"latitude\", \"longitude\", \"poi_count_qk_isochrone_walk_10m\"]], \"poi_count_isochrone_walk_10m\")\n",
    "isochrone_poi_count_austin"
   ]
  },
  {
   "cell_type": "markdown",
   "id": "5464fb0a-407b-4ef8-81e1-ded1ca3a17fd",
   "metadata": {},
   "source": [
    "<center>Figure 3: Poi Count for each rental when enriching at an Isochrone 10 minute walk boundary<center>"
   ]
  },
  {
   "cell_type": "markdown",
   "id": "e61bbf7c-4d62-4853-981d-70295fa8041a",
   "metadata": {},
   "source": [
    "With these plots we demonstrate the different nuances and detail that can be gained by using higher fidelity boundaries. For example at the zipcode level in Figure 1, all of the properties in the Clarkville Historic District area have the same POI Count, indicating they are in the same zipcode. If you built a model with this data, all of those properties would be treated the same with respect to this feature. In Figure 2 we can see that we are starting to get some more nuance in the POI Count feature, with different parts of the Clarkville Historic District being in different CBGs and so having different POI Counts. However the CBG is an arbitrary administrative boundary that very often does not represent how humans behave. This is where Figure 3 shows the effect that the POI Count within an Isochrone 10 minute walk boundary can have. Looking within the Clarkville Historic District, we can see that vacation properties in the South East have a higher POI count within a 10 minutes walk when compared with properties in the North West. This is likely due to the fact the main Downtown area being to the East, and so this is included in the catchment area of properties in the South East of the Clarkville District."
   ]
  },
  {
   "cell_type": "markdown",
   "id": "749dcc2d-9fed-4f27-8dd9-8c9b817f7880",
   "metadata": {
    "tags": []
   },
   "source": [
    "## Explore Iggy Features"
   ]
  },
  {
   "cell_type": "markdown",
   "id": "169d8d1c-0dc6-4ac5-b846-9cfa2ac21067",
   "metadata": {},
   "source": [
    "### Scenario\n",
    "In this scenario we will explore Iggy's features through the lens of building a vacation rental recommendation system in Austin, TX. We will take three personas - a retired couple, a family with kids and a group of friends in their 30s. Each persona values certain characteristics of the locations in which they stay, and we can model this with Iggy. "
   ]
  },
  {
   "cell_type": "markdown",
   "id": "33608b2c-2342-4871-8148-be8ebdd6c513",
   "metadata": {},
   "source": [
    "### Retired Couple\n",
    "This retired couple values cultural sites, grocery stores, nature, historical sites, museums, public transport access and older houses. Based on their preferences we select the vacation data with corresponding Iggy features."
   ]
  },
  {
   "cell_type": "code",
   "execution_count": null,
   "id": "61deac96-1fec-41d8-a84d-597bc828b6b1",
   "metadata": {},
   "outputs": [],
   "source": [
    "couple_selected_features = [\n",
    "    \"poi_is_cultural_count_qk_isochrone_walk_10m\",\n",
    "    \"poi_is_grocery_store_count_qk_isochrone_walk_10m\",\n",
    "    \"poi_is_nature_recreation_count_per_sqkm_qk_isochrone_walk_10m\",\n",
    "    \"poi_is_historical_site_count_per_sqkm_qk_isochrone_walk_10m\",\n",
    "    \"poi_is_museum_count_qk_isochrone_walk_10m\",\n",
    "    \"acs_pct_pop_commutes_by_public_transport_any_cbg\",\n",
    "    \"acs_pct_housing_units_built_1939_or_earlier_cbg\",\n",
    "    \"acs_pct_housing_units_built_1940_to_1949_cbg\",\n",
    "    \"acs_pct_housing_units_built_1950_to_1959_cbg\"\n",
    "]"
   ]
  },
  {
   "cell_type": "code",
   "execution_count": null,
   "id": "5a33b31e-a58a-4cfe-b78a-395aac5f4739",
   "metadata": {},
   "outputs": [],
   "source": [
    "couple_enriched_df = rentals_enriched_df[couple_selected_features]"
   ]
  },
  {
   "cell_type": "code",
   "execution_count": null,
   "id": "908cf5d5-f7f4-4670-94f9-9bebdac6641d",
   "metadata": {},
   "outputs": [],
   "source": [
    "couple_enriched_df.head()"
   ]
  },
  {
   "cell_type": "markdown",
   "id": "09a65209-f3b3-4dcb-8070-40a47ff782c7",
   "metadata": {},
   "source": [
    "### Family with Children\n",
    "This family values being near to Trader Joes & other grocery stores, parking, games and recreation, being near water (rivers, lakes, sea etc), being near parks, nearer buildings and areas with children. Based on their preferences we select the vacation data with corresponding Iggy features."
   ]
  },
  {
   "cell_type": "code",
   "execution_count": null,
   "id": "32a19e05-0a22-40ce-a95f-9a47b0998d6c",
   "metadata": {},
   "outputs": [],
   "source": [
    "family_selected_features = [\n",
    "    \"poi_is_brand_trader_joes_count_qk_isochrone_walk_10m\",\n",
    "    \"poi_is_grocery_store_count_qk_isochrone_walk_10m\",\n",
    "    \"poi_is_parking_count_per_capita_qk_isochrone_walk_10m\",\n",
    "    \"poi_is_games_and_amusement_recreation_count_qk_isochrone_walk_10m\",\n",
    "    \"water_intersects_zipcode\",\n",
    "    \"park_pct_area_intersecting_boundary_qk_isochrone_walk_10m\",\n",
    "    \"acs_housing_units_built_2000_to_2009_cbg\",\n",
    "    \"acs_housing_units_built_2010_to_2013_cbg\",\n",
    "    \"acs_housing_units_built_2014_or_later_cbg\",\n",
    "    \"acs_pct_households_cohabiting_couple_with_children_cbg\",\n",
    "    \"acs_pct_households_female_head_with_children_cbg\",\n",
    "    \"acs_pct_households_male_head_with_children_cbg\",\n",
    "    \"acs_pct_households_married_couple_with_children_cbg\"\n",
    "]"
   ]
  },
  {
   "cell_type": "code",
   "execution_count": null,
   "id": "ecc886e5-f167-4c30-8df4-ac2d5d3ab501",
   "metadata": {},
   "outputs": [],
   "source": [
    "family_enriched_df = rentals_enriched_df[family_selected_features]"
   ]
  },
  {
   "cell_type": "code",
   "execution_count": null,
   "id": "a725aea3-6917-4666-898b-1fbcc63dc57d",
   "metadata": {},
   "outputs": [],
   "source": [
    "family_enriched_df.head()"
   ]
  },
  {
   "cell_type": "markdown",
   "id": "717f2a3d-b14b-4217-976a-6b9ab9bdb412",
   "metadata": {},
   "source": [
    "### Group of Friends\n",
    "This group of friends values being near crossfit facilities, convenience stores, restaurants, bars, performance venues and being around other young adults. Based on their preferences we select the vacation data with corresponding Iggy features."
   ]
  },
  {
   "cell_type": "code",
   "execution_count": null,
   "id": "d899ad1c-61b3-4c8d-a7f1-cd1437cb58c9",
   "metadata": {},
   "outputs": [],
   "source": [
    "friends_selected_features = [\n",
    "    \"poi_is_brand_crossfit_count_qk_isochrone_walk_10m\",\n",
    "    \"poi_is_convenience_store_or_pharmacy_count_per_sqkm_qk_isochrone_walk_10m\",\n",
    "    \"poi_is_restaurant_count_per_sqkm_qk_isochrone_walk_10m\",\n",
    "    \"poi_is_bar_count_per_sqkm_qk_isochrone_walk_10m\",\n",
    "    \"poi_is_performance_venue_count_qk_isochrone_walk_10m\",\n",
    "    \"acs_median_age_cbg\",\n",
    "]"
   ]
  },
  {
   "cell_type": "code",
   "execution_count": null,
   "id": "628cdba8-a7e0-4dff-968d-1ba36fd0cbf6",
   "metadata": {},
   "outputs": [],
   "source": [
    "friends_enriched_df = rentals_enriched_df[friends_selected_features + vacation_rental_columns]"
   ]
  },
  {
   "cell_type": "code",
   "execution_count": null,
   "id": "265db50f-3936-4a62-8e31-2d9f771f5b0f",
   "metadata": {},
   "outputs": [],
   "source": [
    "friends_enriched_df.head()"
   ]
  },
  {
   "cell_type": "markdown",
   "id": "140b76ac-9df0-4255-8bff-da2e9c3e58db",
   "metadata": {
    "tags": []
   },
   "source": [
    "## Use Cases"
   ]
  },
  {
   "cell_type": "markdown",
   "id": "bd4132c1-e9fa-4b1a-aeef-6ab3e7c6f8b5",
   "metadata": {
    "tags": []
   },
   "source": [
    "### Recommendations"
   ]
  },
  {
   "cell_type": "markdown",
   "id": "8cce9299-89ad-49c2-8d67-1847bfa85b28",
   "metadata": {},
   "source": [
    "The group of friends from the previous section had visited Austin in 2021 and had previously stayed in a vacation rental with id number 40956278 in our dataset. They are visiting Austin again in 2022 and liked their previous rental. Based on their stated preferences and the fact that they liked their previous location, we will recommend 5 listings that closest match their preferences. Other requirements are that the property accomodates at least 4 people and that the rental allows bookings to be made for 3 nights."
   ]
  },
  {
   "cell_type": "code",
   "execution_count": null,
   "id": "8c0742a8-e7ba-4e0b-85da-734e17bc269a",
   "metadata": {},
   "outputs": [],
   "source": [
    "# Filter dataset by number of guests and number of nights\n",
    "friends_enriched_df_processed = friends_enriched_df[friends_enriched_df.accommodates >= 4]\n",
    "friends_enriched_df_processed = friends_enriched_df_processed[(friends_enriched_df_processed.minimum_minimum_nights <= 3) & (friends_enriched_df_processed.maximum_minimum_nights >= 3)] \n",
    "friends_enriched_df_processed = friends_enriched_df_processed[friends_selected_features + ['id' ,'accommodates', 'minimum_minimum_nights', 'maximum_minimum_nights']]"
   ]
  },
  {
   "cell_type": "code",
   "execution_count": null,
   "id": "c3516c6b-a14f-4eb0-89b3-68791948ec80",
   "metadata": {},
   "outputs": [],
   "source": [
    "# Clean and scale data\n",
    "friends_enriched_df_processed.dropna(inplace=True)\n",
    "friends_enriched_df_processed_ids = friends_enriched_df_processed['id']\n",
    "friends_enriched_df_processed_ids = friends_enriched_df_processed_ids.reset_index(drop=True)\n",
    "friends_enriched_df_processed = friends_enriched_df_processed[friends_selected_features]"
   ]
  },
  {
   "cell_type": "code",
   "execution_count": null,
   "id": "7acf9422-ca2c-45e2-9f45-431c7b957b31",
   "metadata": {},
   "outputs": [],
   "source": [
    "# Scale data\n",
    "scaler = preprocessing.StandardScaler()\n",
    "scaled_enriched_df = scaler.fit_transform(friends_enriched_df_processed)"
   ]
  },
  {
   "cell_type": "code",
   "execution_count": null,
   "id": "11558a10-929f-4e46-88cf-15fc2a7573c5",
   "metadata": {},
   "outputs": [],
   "source": [
    "# Calculate similarities\n",
    "similarities = pairwise.cosine_similarity(scaled_enriched_df)"
   ]
  },
  {
   "cell_type": "code",
   "execution_count": null,
   "id": "02afd1ba-240e-40f2-affe-5c7cc4bfae8a",
   "metadata": {},
   "outputs": [],
   "source": [
    "# Select top 5 most similar rentals to the rental from 2021\n",
    "rental_of_interest = 40956278\n",
    "num_similar_rentals = 5\n",
    "idx_of_rental = friends_enriched_df_processed_ids[friends_enriched_df_processed_ids == rental_of_interest].index[0]\n",
    "ind = np.argpartition(similarities[idx_of_rental], -(num_similar_rentals+1))[-(num_similar_rentals+1):]"
   ]
  },
  {
   "cell_type": "code",
   "execution_count": null,
   "id": "b5a04df4-72b2-49da-91e5-5c05fae1ad37",
   "metadata": {
    "tags": []
   },
   "outputs": [],
   "source": [
    "recommendations_rental_data = vacation_rental_data.set_index('id')\n",
    "recommendations_rental_data.loc[list(friends_enriched_df_processed_ids.iloc[ind].values), :]"
   ]
  },
  {
   "cell_type": "code",
   "execution_count": null,
   "id": "5b3426c7-d49d-4d8f-acd2-253104802df4",
   "metadata": {},
   "outputs": [],
   "source": [
    "# Convert Pandas dataframe to Geopandas dataframe\n",
    "recommendations_rental_data['geometry'] = gpd.points_from_xy(vacation_rental_data.longitude, vacation_rental_data.latitude)\n",
    "rental_data_viz = gpd.GeoDataFrame(recommendations_rental_data.loc[list(friends_enriched_df_processed_ids.iloc[ind].values), :].reset_index()[['geometry', 'accommodates', 'id', 'minimum_minimum_nights', 'maximum_minimum_nights']], geometry='geometry', crs=\"WGS84\")\n",
    "rental_data_viz.set_index('id', inplace=True)"
   ]
  },
  {
   "cell_type": "code",
   "execution_count": null,
   "id": "92955c3d-7056-4beb-b4f2-d9ab8414716d",
   "metadata": {},
   "outputs": [],
   "source": [
    "%run map_configs/recommended_rentals_austin_map.py\n",
    "recommended_rentals = KeplerGl(height=600, width=400)\n",
    "recommended_rentals.add_data(rental_data_viz.drop(rental_of_interest), \"Most Similar rentals\")\n",
    "recommended_rentals.add_data(rental_data_viz[rental_data_viz.index==rental_of_interest], \"Rental of Interest\")\n",
    "recommended_rentals"
   ]
  },
  {
   "cell_type": "markdown",
   "id": "aa50cffb-49a3-4253-bd51-276d4c5d8456",
   "metadata": {},
   "source": [
    "<center>Figure 4: Recommended rentals in Austin<center>"
   ]
  },
  {
   "cell_type": "code",
   "execution_count": null,
   "id": "43787f0f-5679-4038-ab7b-80d957eceb2d",
   "metadata": {},
   "outputs": [],
   "source": [
    "all_rental_data_viz = gpd.GeoDataFrame(recommendations_rental_data.loc[list(friends_enriched_df_processed_ids.values), :].reset_index()[['geometry', 'accommodates', 'id', 'minimum_minimum_nights', 'maximum_minimum_nights']], geometry='geometry', crs=\"WGS84\")\n",
    "all_rental_data_viz['similarities'] = similarities[idx_of_rental]"
   ]
  },
  {
   "cell_type": "code",
   "execution_count": null,
   "id": "29642436-9283-4dba-9eba-a5e34eb04ccd",
   "metadata": {},
   "outputs": [],
   "source": [
    "%run map_configs/recommended_rentals_austin_map.py\n",
    "all_rentals = KeplerGl(height=600, width=400)\n",
    "all_rentals.add_data(all_rental_data_viz[['geometry', 'similarities']], \"Similarity of All Rentals\")\n",
    "all_rentals"
   ]
  },
  {
   "cell_type": "markdown",
   "id": "9aab6dba-1938-43d7-841c-81d1b6eaefaf",
   "metadata": {},
   "source": [
    "<center>Figure 5: Similarities of All Rentals in Austin vs Rental of Interest<center>"
   ]
  },
  {
   "cell_type": "markdown",
   "id": "1893b22c-04ce-4323-8fd8-c02c56a61608",
   "metadata": {},
   "source": [
    "As you can see from Figure 4, the recommendation engine has selected 5 rentals that fit the requirements, and also are closest to the group of friend's preferences. Given the criteria we used to select these recommended rentals, it makes sense that four are in the same neighborhood as the rental of interest."
   ]
  },
  {
   "cell_type": "markdown",
   "id": "e49aa133-a7b1-4694-a763-8379c67a1c40",
   "metadata": {
    "tags": []
   },
   "source": [
    "## Prediction"
   ]
  },
  {
   "cell_type": "markdown",
   "id": "22d4e450-4bf6-409f-ae83-15864ad96657",
   "metadata": {},
   "source": [
    "For this use case, we would like to train a machine learning model to predict the average `review_scores_location` score a vacation rental has been given by the people who have stayed there. We would also be interested in learning how features are correlated with the score, i.e. does an increase in a feature increase the score. For this task we will only use the selected Iggy features."
   ]
  },
  {
   "cell_type": "code",
   "execution_count": null,
   "id": "f3430032-240e-442b-aa3b-35485017a097",
   "metadata": {},
   "outputs": [],
   "source": [
    "# Subset dataframe and clean\n",
    "modeling_df = rentals_enriched_df[features + ['review_scores_location']]\n",
    "modeling_df_clean = modeling_df.dropna(axis=1, thresh=8000).dropna()"
   ]
  },
  {
   "cell_type": "code",
   "execution_count": null,
   "id": "e3a19f1e-3ea3-4bf0-aabf-a0ff8f541370",
   "metadata": {},
   "outputs": [],
   "source": [
    "# Split into X and y\n",
    "modeling_df_clean_feats = modeling_df_clean.drop(['review_scores_location', 'poi_count_cbg', 'poi_count_zipcode','poi_count_qk_isochrone_walk_10m'], axis=1)\n",
    "modeling_df_target = modeling_df_clean[['review_scores_location']]"
   ]
  },
  {
   "cell_type": "code",
   "execution_count": null,
   "id": "789e75f8-6013-4f80-a91e-aaa8f8473294",
   "metadata": {},
   "outputs": [],
   "source": [
    "# Split into Train and Test\n",
    "X_train, X_test, y_train,  y_test = train_test_split(modeling_df_clean_feats, modeling_df_target, test_size=0.3)"
   ]
  },
  {
   "cell_type": "code",
   "execution_count": null,
   "id": "90208ea6-a48b-4b98-a5fe-df86c56b0862",
   "metadata": {},
   "outputs": [],
   "source": [
    "# Scale data\n",
    "scaler = preprocessing.StandardScaler()\n",
    "scaled_X_train = scaler.fit_transform(X_train)\n",
    "scaled_X_test = scaler.transform(X_test)"
   ]
  },
  {
   "cell_type": "code",
   "execution_count": null,
   "id": "cf9c9177-2fb9-495d-99e7-917c9fc35e42",
   "metadata": {},
   "outputs": [],
   "source": [
    "# Train linear regression model\n",
    "reg = linear_model.Lasso(alpha=0.01)\n",
    "reg.fit(scaled_X_train, y_train)\n",
    "preds = reg.predict(scaled_X_test)"
   ]
  },
  {
   "cell_type": "code",
   "execution_count": null,
   "id": "adc4e55c-afc1-4fbf-8d17-80313521ee62",
   "metadata": {},
   "outputs": [],
   "source": [
    "model_coefs = pd.DataFrame(zip(modeling_df_clean_feats.columns, reg.coef_), columns=['Feature', 'Coefficient'])\n",
    "model_coefs = model_coefs[abs(model_coefs['Coefficient']) > 1e-5]"
   ]
  },
  {
   "cell_type": "code",
   "execution_count": null,
   "id": "77b9c03d-c982-4f2f-92f1-28ec10de5ddc",
   "metadata": {},
   "outputs": [],
   "source": [
    "ax = model_coefs.plot.barh(x='Feature', y='Coefficient')"
   ]
  },
  {
   "cell_type": "markdown",
   "id": "41cb1688-f9ac-4417-a912-4d86897f9767",
   "metadata": {},
   "source": [
    "<center>Figure 6: Coefficients of Features in Linear Regression Model<center>"
   ]
  },
  {
   "cell_type": "markdown",
   "id": "4c1e0f26-e852-49ac-8771-b81453c157c8",
   "metadata": {},
   "source": [
    "We built a Lasso regression model using the selected Iggy features to predict review_scores_location. Then we plotted the non-zero coefficients in Figure 6 to see if certain features are positively or negatively correlated with review_scores_location. As you can see features such as `acs_median_age_cbg`, `acs_pct_housing_units_built_1939_or_earlier_cbg`, `poi_is_restaurant_count_per_sqkm_qk_isochrone_walk_10m` were all positively correlated with `review_scores_location` whereas `acs_pct_households_female_head_with_children_cbg` is negatively correlated."
   ]
  }
 ],
 "metadata": {
  "environment": {
   "kernel": "python3",
   "name": "common-cpu.m89",
   "type": "gcloud",
   "uri": "gcr.io/deeplearning-platform-release/base-cpu:m89"
  },
  "kernelspec": {
   "display_name": "env",
   "language": "python",
   "name": "env"
  },
  "language_info": {
   "codemirror_mode": {
    "name": "ipython",
    "version": 3
   },
   "file_extension": ".py",
   "mimetype": "text/x-python",
   "name": "python",
   "nbconvert_exporter": "python",
   "pygments_lexer": "ipython3",
   "version": "3.9.7"
  }
 },
 "nbformat": 4,
 "nbformat_minor": 5
}
