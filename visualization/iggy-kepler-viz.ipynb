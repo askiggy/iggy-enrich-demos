{
 "cells": [
  {
   "cell_type": "markdown",
   "id": "b39cd827",
   "metadata": {},
   "source": [
    "## Iggy demo with kepler.gl visualization\n",
    "\n",
    "This notebook gives a quick example of how to enrich some user data with Iggy and then visualize the resulting features using [kepler.gl](https://kepler.gl/).\n",
    "\n",
    "We're assuming you have some Iggy data on hand (if not, you can download a sample [here](https://docs.askiggy.com/download/sample-data)) and have unzipped the downloaded package into a local directory like so:\n",
    "\n",
    "```bash\n",
    "tar xzvf iggy-package-wkt-20211110214810_fl_pinellas_quadkeys.tar.gz\n",
    "```\n",
    "\n",
    "The resulting data (parquet files) should then be accessible in the directory `iggy-package-wkt-20211110214810_fl_pinellas_quadkeys`. \n",
    "\n",
    "Ok? Let's go!"
   ]
  },
  {
   "cell_type": "code",
   "execution_count": 1,
   "id": "e7ef797e",
   "metadata": {},
   "outputs": [],
   "source": [
    "# Install dependencies if needed\n",
    "!pip install pandas geopandas pyarrow shapely keplergl"
   ]
  },
  {
   "cell_type": "code",
   "execution_count": 2,
   "id": "9bd7e483",
   "metadata": {},
   "outputs": [
    {
     "name": "stderr",
     "output_type": "stream",
     "text": [
      "/Users/anne/.pyenv/versions/3.8.7/envs/covid/lib/python3.8/site-packages/pandas/compat/__init__.py:124: UserWarning: Could not import the lzma module. Your installed Python is incomplete. Attempting to use lzma compression will result in a RuntimeError.\n",
      "  warnings.warn(msg)\n"
     ]
    }
   ],
   "source": [
    "import pandas as pd\n",
    "import geopandas as gpd\n",
    "from shapely import wkt\n",
    "from shapely.geometry import Point, Polygon\n",
    "from keplergl import KeplerGl"
   ]
  },
  {
   "cell_type": "markdown",
   "id": "2854c177",
   "metadata": {},
   "source": [
    "### Let's start with a dataset\n",
    "\n",
    "We'll assume you're using Iggy to enrich some data you already have on hand, like a data set of properties your company holds or number of users by zip code.\n",
    "\n",
    "For this demo, we'll start with a 2018 dataset of public pools in FL which can be downloaded [here](https://download.fgdl.org/pub/state/public_pools_mar18.zip). The next two code blocks download the data, read it, and transform it into a data frame where each row represents a zip code and a column indicates the number of public pools in that zip."
   ]
  },
  {
   "cell_type": "code",
   "execution_count": 3,
   "id": "ea044edd",
   "metadata": {},
   "outputs": [],
   "source": [
    "!wget https://download.fgdl.org/pub/state/public_pools_mar18.zip\n",
    "!unzip public_pools_mar18.zip"
   ]
  },
  {
   "cell_type": "code",
   "execution_count": 4,
   "id": "971b41d8",
   "metadata": {},
   "outputs": [],
   "source": [
    "# read data\n",
    "pools_gdf = gpd.read_file('public_pools_mar18.shp')\n",
    "# calculate pool counts by zip\n",
    "pools = pd.DataFrame(pools_gdf)[[\"ZIP_CODE\", \"ENTITYNUMB\"]].groupby([\"ZIP_CODE\"]).count()\n",
    "pools.rename(columns={\"ENTITYNUMB\": \"pool_count\"}, inplace=True)"
   ]
  },
  {
   "cell_type": "markdown",
   "id": "bf3c7693",
   "metadata": {},
   "source": [
    "So we're starting with a simple data frame that has two columns: `ZIP_CODE` (which is currently the index), and `pool_count`. If you're following along with your own data, just get it to the point where you have it in a pandas DataFrame and go from here."
   ]
  },
  {
   "cell_type": "code",
   "execution_count": 5,
   "id": "d45f0015",
   "metadata": {},
   "outputs": [
    {
     "data": {
      "text/html": [
       "<div>\n",
       "<style scoped>\n",
       "    .dataframe tbody tr th:only-of-type {\n",
       "        vertical-align: middle;\n",
       "    }\n",
       "\n",
       "    .dataframe tbody tr th {\n",
       "        vertical-align: top;\n",
       "    }\n",
       "\n",
       "    .dataframe thead th {\n",
       "        text-align: right;\n",
       "    }\n",
       "</style>\n",
       "<table border=\"1\" class=\"dataframe\">\n",
       "  <thead>\n",
       "    <tr style=\"text-align: right;\">\n",
       "      <th></th>\n",
       "      <th>pool_count</th>\n",
       "    </tr>\n",
       "    <tr>\n",
       "      <th>ZIP_CODE</th>\n",
       "      <th></th>\n",
       "    </tr>\n",
       "  </thead>\n",
       "  <tbody>\n",
       "    <tr>\n",
       "      <th>32003</th>\n",
       "      <td>26</td>\n",
       "    </tr>\n",
       "    <tr>\n",
       "      <th>32008</th>\n",
       "      <td>2</td>\n",
       "    </tr>\n",
       "    <tr>\n",
       "      <th>32024</th>\n",
       "      <td>4</td>\n",
       "    </tr>\n",
       "    <tr>\n",
       "      <th>32025</th>\n",
       "      <td>10</td>\n",
       "    </tr>\n",
       "    <tr>\n",
       "      <th>32033</th>\n",
       "      <td>5</td>\n",
       "    </tr>\n",
       "  </tbody>\n",
       "</table>\n",
       "</div>"
      ],
      "text/plain": [
       "          pool_count\n",
       "ZIP_CODE            \n",
       "32003             26\n",
       "32008              2\n",
       "32024              4\n",
       "32025             10\n",
       "32033              5"
      ]
     },
     "execution_count": 5,
     "metadata": {},
     "output_type": "execute_result"
    }
   ],
   "source": [
    "pools.head()"
   ]
  },
  {
   "cell_type": "markdown",
   "id": "bda39f69",
   "metadata": {},
   "source": [
    "### Loading and enriching with Iggy data\n",
    "\n",
    "The next step is to load the Iggy data that we'll use to enrich our pools dataset."
   ]
  },
  {
   "cell_type": "code",
   "execution_count": 6,
   "id": "b545c83c",
   "metadata": {},
   "outputs": [],
   "source": [
    "VERSION_ID = \"20211110214810\"\n",
    "PREFIX = \"fl_pinellas_quadkeys\""
   ]
  },
  {
   "cell_type": "code",
   "execution_count": 7,
   "id": "6897a028",
   "metadata": {},
   "outputs": [],
   "source": [
    "# Load Iggy zipcode data and set the dataframe index to the `id` which contains the zip code\n",
    "iggy_zips = pd.read_parquet(f\"../iggy-data/iggy-package-wkt-{VERSION_ID}_{PREFIX}/{PREFIX}_zipcode_{VERSION_ID}\")\n",
    "iggy_zips.set_index(\"id\", inplace=True)\n",
    "\n",
    "# Merge it with our pools\n",
    "iggy_pools = pools.merge(iggy_zips, left_index=True, right_index=True, suffixes=(\"\", \"_zipcode\"))"
   ]
  },
  {
   "cell_type": "code",
   "execution_count": 8,
   "id": "5d15fa10",
   "metadata": {},
   "outputs": [
    {
     "data": {
      "text/html": [
       "<div>\n",
       "<style scoped>\n",
       "    .dataframe tbody tr th:only-of-type {\n",
       "        vertical-align: middle;\n",
       "    }\n",
       "\n",
       "    .dataframe tbody tr th {\n",
       "        vertical-align: top;\n",
       "    }\n",
       "\n",
       "    .dataframe thead th {\n",
       "        text-align: right;\n",
       "    }\n",
       "</style>\n",
       "<table border=\"1\" class=\"dataframe\">\n",
       "  <thead>\n",
       "    <tr style=\"text-align: right;\">\n",
       "      <th></th>\n",
       "      <th>pool_count</th>\n",
       "      <th>name</th>\n",
       "      <th>area_sqkm</th>\n",
       "      <th>perimeter_km</th>\n",
       "      <th>population</th>\n",
       "      <th>poi_count</th>\n",
       "      <th>poi_count_per_sqkm</th>\n",
       "      <th>poi_count_per_capita</th>\n",
       "      <th>poi_is_transportation_count</th>\n",
       "      <th>poi_is_transportation_count_per_sqkm</th>\n",
       "      <th>...</th>\n",
       "      <th>national_forest_count_per_sqkm</th>\n",
       "      <th>national_forest_count_per_capita</th>\n",
       "      <th>national_forest_intersecting_area_in_sqkm</th>\n",
       "      <th>national_forest_pct_area_intersecting_boundary</th>\n",
       "      <th>public_park_count</th>\n",
       "      <th>public_park_count_per_sqkm</th>\n",
       "      <th>public_park_count_per_capita</th>\n",
       "      <th>public_park_intersecting_area_in_sqkm</th>\n",
       "      <th>public_park_pct_area_intersecting_boundary</th>\n",
       "      <th>geometry</th>\n",
       "    </tr>\n",
       "  </thead>\n",
       "  <tbody>\n",
       "    <tr>\n",
       "      <th>33556</th>\n",
       "      <td>12</td>\n",
       "      <td>33556</td>\n",
       "      <td>106.265117</td>\n",
       "      <td>58.167026</td>\n",
       "      <td>23182</td>\n",
       "      <td>140</td>\n",
       "      <td>1.317460</td>\n",
       "      <td>0.006039</td>\n",
       "      <td>2</td>\n",
       "      <td>0.018821</td>\n",
       "      <td>...</td>\n",
       "      <td>0.0</td>\n",
       "      <td>0.0</td>\n",
       "      <td>0.0</td>\n",
       "      <td>0.0</td>\n",
       "      <td>6.0</td>\n",
       "      <td>0.056463</td>\n",
       "      <td>0.000259</td>\n",
       "      <td>0.277289</td>\n",
       "      <td>0.002609</td>\n",
       "      <td>POLYGON((-82.651165 28.173266, -82.651144 28.1...</td>\n",
       "    </tr>\n",
       "    <tr>\n",
       "      <th>33626</th>\n",
       "      <td>36</td>\n",
       "      <td>33626</td>\n",
       "      <td>38.051243</td>\n",
       "      <td>34.312747</td>\n",
       "      <td>30743</td>\n",
       "      <td>306</td>\n",
       "      <td>8.041787</td>\n",
       "      <td>0.009953</td>\n",
       "      <td>11</td>\n",
       "      <td>0.289084</td>\n",
       "      <td>...</td>\n",
       "      <td>0.0</td>\n",
       "      <td>0.0</td>\n",
       "      <td>0.0</td>\n",
       "      <td>0.0</td>\n",
       "      <td>6.0</td>\n",
       "      <td>0.157682</td>\n",
       "      <td>0.000195</td>\n",
       "      <td>0.835024</td>\n",
       "      <td>0.021945</td>\n",
       "      <td>POLYGON((-82.649149 28.098901, -82.649126 28.0...</td>\n",
       "    </tr>\n",
       "    <tr>\n",
       "      <th>33635</th>\n",
       "      <td>26</td>\n",
       "      <td>33635</td>\n",
       "      <td>16.020221</td>\n",
       "      <td>30.481792</td>\n",
       "      <td>18650</td>\n",
       "      <td>134</td>\n",
       "      <td>8.364429</td>\n",
       "      <td>0.007185</td>\n",
       "      <td>17</td>\n",
       "      <td>1.061159</td>\n",
       "      <td>...</td>\n",
       "      <td>NaN</td>\n",
       "      <td>NaN</td>\n",
       "      <td>NaN</td>\n",
       "      <td>NaN</td>\n",
       "      <td>NaN</td>\n",
       "      <td>NaN</td>\n",
       "      <td>NaN</td>\n",
       "      <td>NaN</td>\n",
       "      <td>NaN</td>\n",
       "      <td>POLYGON((-82.648565 28.033407, -82.648567 28.0...</td>\n",
       "    </tr>\n",
       "    <tr>\n",
       "      <th>33701</th>\n",
       "      <td>66</td>\n",
       "      <td>33701</td>\n",
       "      <td>10.382468</td>\n",
       "      <td>16.786176</td>\n",
       "      <td>15728</td>\n",
       "      <td>788</td>\n",
       "      <td>75.897177</td>\n",
       "      <td>0.050102</td>\n",
       "      <td>177</td>\n",
       "      <td>17.047970</td>\n",
       "      <td>...</td>\n",
       "      <td>0.0</td>\n",
       "      <td>0.0</td>\n",
       "      <td>0.0</td>\n",
       "      <td>0.0</td>\n",
       "      <td>30.0</td>\n",
       "      <td>2.889486</td>\n",
       "      <td>0.001907</td>\n",
       "      <td>0.747974</td>\n",
       "      <td>0.072042</td>\n",
       "      <td>POLYGON((-82.646726 27.785689, -82.646743 27.7...</td>\n",
       "    </tr>\n",
       "    <tr>\n",
       "      <th>33702</th>\n",
       "      <td>65</td>\n",
       "      <td>33702</td>\n",
       "      <td>33.046359</td>\n",
       "      <td>35.880793</td>\n",
       "      <td>32019</td>\n",
       "      <td>437</td>\n",
       "      <td>13.223847</td>\n",
       "      <td>0.013648</td>\n",
       "      <td>124</td>\n",
       "      <td>3.752304</td>\n",
       "      <td>...</td>\n",
       "      <td>0.0</td>\n",
       "      <td>0.0</td>\n",
       "      <td>0.0</td>\n",
       "      <td>0.0</td>\n",
       "      <td>15.0</td>\n",
       "      <td>0.453908</td>\n",
       "      <td>0.000468</td>\n",
       "      <td>0.650914</td>\n",
       "      <td>0.019697</td>\n",
       "      <td>MULTIPOLYGON(((-82.669789 27.826477, -82.66978...</td>\n",
       "    </tr>\n",
       "  </tbody>\n",
       "</table>\n",
       "<p>5 rows × 227 columns</p>\n",
       "</div>"
      ],
      "text/plain": [
       "       pool_count   name   area_sqkm  perimeter_km  population  poi_count  \\\n",
       "33556          12  33556  106.265117     58.167026       23182        140   \n",
       "33626          36  33626   38.051243     34.312747       30743        306   \n",
       "33635          26  33635   16.020221     30.481792       18650        134   \n",
       "33701          66  33701   10.382468     16.786176       15728        788   \n",
       "33702          65  33702   33.046359     35.880793       32019        437   \n",
       "\n",
       "       poi_count_per_sqkm  poi_count_per_capita  poi_is_transportation_count  \\\n",
       "33556            1.317460              0.006039                            2   \n",
       "33626            8.041787              0.009953                           11   \n",
       "33635            8.364429              0.007185                           17   \n",
       "33701           75.897177              0.050102                          177   \n",
       "33702           13.223847              0.013648                          124   \n",
       "\n",
       "       poi_is_transportation_count_per_sqkm  ...  \\\n",
       "33556                              0.018821  ...   \n",
       "33626                              0.289084  ...   \n",
       "33635                              1.061159  ...   \n",
       "33701                             17.047970  ...   \n",
       "33702                              3.752304  ...   \n",
       "\n",
       "       national_forest_count_per_sqkm  national_forest_count_per_capita  \\\n",
       "33556                             0.0                               0.0   \n",
       "33626                             0.0                               0.0   \n",
       "33635                             NaN                               NaN   \n",
       "33701                             0.0                               0.0   \n",
       "33702                             0.0                               0.0   \n",
       "\n",
       "       national_forest_intersecting_area_in_sqkm  \\\n",
       "33556                                        0.0   \n",
       "33626                                        0.0   \n",
       "33635                                        NaN   \n",
       "33701                                        0.0   \n",
       "33702                                        0.0   \n",
       "\n",
       "       national_forest_pct_area_intersecting_boundary  public_park_count  \\\n",
       "33556                                             0.0                6.0   \n",
       "33626                                             0.0                6.0   \n",
       "33635                                             NaN                NaN   \n",
       "33701                                             0.0               30.0   \n",
       "33702                                             0.0               15.0   \n",
       "\n",
       "       public_park_count_per_sqkm  public_park_count_per_capita  \\\n",
       "33556                    0.056463                      0.000259   \n",
       "33626                    0.157682                      0.000195   \n",
       "33635                         NaN                           NaN   \n",
       "33701                    2.889486                      0.001907   \n",
       "33702                    0.453908                      0.000468   \n",
       "\n",
       "       public_park_intersecting_area_in_sqkm  \\\n",
       "33556                               0.277289   \n",
       "33626                               0.835024   \n",
       "33635                                    NaN   \n",
       "33701                               0.747974   \n",
       "33702                               0.650914   \n",
       "\n",
       "       public_park_pct_area_intersecting_boundary  \\\n",
       "33556                                    0.002609   \n",
       "33626                                    0.021945   \n",
       "33635                                         NaN   \n",
       "33701                                    0.072042   \n",
       "33702                                    0.019697   \n",
       "\n",
       "                                                geometry  \n",
       "33556  POLYGON((-82.651165 28.173266, -82.651144 28.1...  \n",
       "33626  POLYGON((-82.649149 28.098901, -82.649126 28.0...  \n",
       "33635  POLYGON((-82.648565 28.033407, -82.648567 28.0...  \n",
       "33701  POLYGON((-82.646726 27.785689, -82.646743 27.7...  \n",
       "33702  MULTIPOLYGON(((-82.669789 27.826477, -82.66978...  \n",
       "\n",
       "[5 rows x 227 columns]"
      ]
     },
     "execution_count": 8,
     "metadata": {},
     "output_type": "execute_result"
    }
   ],
   "source": [
    "iggy_pools.head()"
   ]
  },
  {
   "cell_type": "markdown",
   "id": "cf08ffca",
   "metadata": {},
   "source": [
    "Great! Now we have a dataframe with not one but 227 columns that describe each zip code.\n",
    "\n",
    "If you noticed, the number of rows in this dataset shrunk from 897 to 52. This is because our Iggy sample dataset only contains 52 zip codes in Pinellas County. "
   ]
  },
  {
   "cell_type": "markdown",
   "id": "0b5f8c09",
   "metadata": {},
   "source": [
    "### Visualization\n",
    "\n",
    "Next let's visualize the enriched pools data using kepler.\n",
    "\n",
    "The first thing we'll need to do is turn our vanilla DataFrame into a GeoDataFrame, so that kepler can understand the geometries."
   ]
  },
  {
   "cell_type": "code",
   "execution_count": 9,
   "id": "2b3b436a",
   "metadata": {},
   "outputs": [
    {
     "name": "stderr",
     "output_type": "stream",
     "text": [
      "/Users/anne/.pyenv/versions/3.8.7/envs/covid/lib/python3.8/site-packages/geopandas/geodataframe.py:1351: PerformanceWarning: DataFrame is highly fragmented.  This is usually the result of calling `frame.insert` many times, which has poor performance.  Consider joining all columns at once using pd.concat(axis=1) instead.  To get a de-fragmented frame, use `newframe = frame.copy()`\n",
      "  super().__setitem__(key, value)\n"
     ]
    }
   ],
   "source": [
    "# Define the geometry\n",
    "pools_geom = iggy_pools.pop(\"geometry\")\n",
    "pools_geom = gpd.GeoSeries(pools_geom.map(lambda geom: wkt.loads(geom)), crs=\"WGS84\")\n",
    "\n",
    "# Convert to GeoDataFrame\n",
    "iggy_pools_gdf = gpd.GeoDataFrame(iggy_pools, geometry=pools_geom)\n",
    "iggy_pools_gdf.fillna(0, inplace=True)"
   ]
  },
  {
   "cell_type": "markdown",
   "id": "d98ce05d",
   "metadata": {},
   "source": [
    "Finally, let's take a look!"
   ]
  },
  {
   "cell_type": "code",
   "execution_count": 10,
   "id": "aef020f5",
   "metadata": {},
   "outputs": [
    {
     "name": "stdout",
     "output_type": "stream",
     "text": [
      "User Guide: https://docs.kepler.gl/docs/keplergl-jupyter\n"
     ]
    }
   ],
   "source": [
    "map = KeplerGl()\n",
    "map.add_data(data=iggy_pools_gdf, name=\"enriched_pools\")"
   ]
  },
  {
   "cell_type": "code",
   "execution_count": 11,
   "id": "15f70d88",
   "metadata": {
    "scrolled": true
   },
   "outputs": [
    {
     "data": {
      "application/vnd.jupyter.widget-view+json": {
       "model_id": "a1a7242132494eb7b120c0075a9a1c88",
       "version_major": 2,
       "version_minor": 0
      },
      "text/plain": [
       "KeplerGl(data={'enriched_pools': {'index': ['33556', '33626', '33635', '33701', '33702', '33703', '33704', '33…"
      ]
     },
     "metadata": {},
     "output_type": "display_data"
    }
   ],
   "source": [
    "map"
   ]
  },
  {
   "cell_type": "markdown",
   "id": "6546e67b",
   "metadata": {},
   "source": [
    "When you first load the map, it'll show you the outlines of zip codes in Pinellas County and every zip will have the same color.\n",
    "\n",
    "You can change the colors to reflect features by:\n",
    "- clicking on the little arrow in the top left of the map\n",
    "- clicking the down arrow at the right side of the `enriched_pools` box \n",
    "- clicking on the three dots by \"Fill Color\"\n",
    "- selecting a feature in the \"Color Based On\" box "
   ]
  },
  {
   "cell_type": "markdown",
   "id": "6dc4d6fd",
   "metadata": {},
   "source": [
    "### Exporting\n",
    "\n",
    "Now let's say you prefer to use kepler.gl in their web app, instead of here in the notebook. Or, maybe you haven't been able to get the kepler map to render in this notebook and have exhausted all of the install suggestions in [kepler's docs](https://docs.kepler.gl/docs/keplergl-jupyter) and just want to see the data. \n",
    "\n",
    "You can export your GeoDataFrame to a file in GeoJSON format, which you can then drag and drop into your kepler browser window:"
   ]
  },
  {
   "cell_type": "code",
   "execution_count": 13,
   "id": "3d318992",
   "metadata": {},
   "outputs": [],
   "source": [
    "iggy_pools_gdf.to_file(\"iggy-pools-export.json\", driver=\"GeoJSON\", index=True)"
   ]
  }
 ],
 "metadata": {
  "kernelspec": {
   "display_name": "Python 3",
   "language": "python",
   "name": "python3"
  },
  "language_info": {
   "codemirror_mode": {
    "name": "ipython",
    "version": 3
   },
   "file_extension": ".py",
   "mimetype": "text/x-python",
   "name": "python",
   "nbconvert_exporter": "python",
   "pygments_lexer": "ipython3",
   "version": "3.8.7"
  }
 },
 "nbformat": 4,
 "nbformat_minor": 5
}
